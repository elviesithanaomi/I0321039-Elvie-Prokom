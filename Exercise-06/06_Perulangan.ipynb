{
 "cells": [
  {
   "cell_type": "markdown",
   "metadata": {},
   "source": [
    "***\n",
    "<h1 align=\"center\">Exercise 06</h1>\n",
    " \n",
    "***\n",
    "## While Loop\n",
    "## Exercise 6.1\n",
    "isilah bagian rumpang berikut. xx diganti tanggal lahir dan yy diganti menjadi bulan lahir. tandanya menyesuaikan yang lebih besar."
   ]
  },
  {
   "cell_type": "code",
   "execution_count": 11,
   "metadata": {},
   "outputs": [
    {
     "name": "stdout",
     "output_type": "stream",
     "text": [
      "slow progress is progress\n",
      "slow progress is progress\n",
      "slow progress is progress\n",
      "slow progress is progress\n",
      "slow progress is progress\n",
      "slow progress is progress\n",
      "slow progress is progress\n",
      "slow progress is progress\n",
      "slow progress is progress\n",
      "slow progress is progress\n",
      "slow progress is progress\n",
      "slow progress is progress\n",
      "slow progress is progress\n",
      "slow progress is progress\n",
      "slow progress is progress\n",
      "slow progress is progress\n",
      "slow progress is progress\n",
      "slow progress is progress\n"
     ]
    }
   ],
   "source": [
    "#menentukan banyak pengulangan\n",
    "n = 28\n",
    "\n",
    "#melakukan pengulangan\n",
    "i = 11\n",
    "\n",
    "while i <= n :\n",
    "    print (\"slow progress is progress\")\n",
    "    #diisi motto kalian\n",
    "    i = i + 1 # sesuaikan dengan atas agar fungsi perulangan dapat berhenti\n"
   ]
  },
  {
   "cell_type": "markdown",
   "metadata": {},
   "source": [
    "## Exercise 6.2\n",
    "\n",
    "Buatlah code seperti yang dicontohkan pada modul agar user dapat menginputkan sendiri jumlah n yang diinginkan"
   ]
  },
  {
   "cell_type": "code",
   "execution_count": 9,
   "metadata": {},
   "outputs": [
    {
     "name": "stdout",
     "output_type": "stream",
     "text": [
      "7\n",
      "8\n",
      "9\n",
      "10\n",
      "11\n",
      "12\n"
     ]
    }
   ],
   "source": [
    "#Kerjakan disini\n",
    "n = int(input(\"masukkan nilai n =\"))\n",
    "i = 7\n",
    "while i <= n :\n",
    "    print(i)\n",
    "    i = i +1\n"
   ]
  },
  {
   "cell_type": "markdown",
   "metadata": {},
   "source": [
    "## Excercise 6.3\n",
    "\n",
    "isilah xx, yy, dan tanda rumpang seperti pada exercise 6.1\n"
   ]
  },
  {
   "cell_type": "code",
   "execution_count": 8,
   "metadata": {},
   "outputs": [
    {
     "name": "stdout",
     "output_type": "stream",
     "text": [
      "Baris ke-28 : forgotten\n",
      "Baris ke-27 : forgotten\n",
      "Baris ke-26 : forgotten\n",
      "Baris ke-25 : forgotten\n",
      "Baris ke-24 : forgotten\n",
      "Baris ke-23 : forgotten\n",
      "Baris ke-22 : forgotten\n",
      "Baris ke-21 : forgotten\n",
      "Baris ke-20 : forgotten\n",
      "Baris ke-19 : forgotten\n",
      "Baris ke-18 : forgotten\n",
      "Baris ke-17 : forgotten\n",
      "Baris ke-16 : forgotten\n",
      "Baris ke-15 : forgotten\n",
      "Baris ke-14 : forgotten\n",
      "Baris ke-13 : forgotten\n",
      "Baris ke-12 : forgotten\n",
      "Baris ke-11 : forgotten\n"
     ]
    }
   ],
   "source": [
    "#melakukan pengulangan\n",
    "i = 28\n",
    "\n",
    "while i >= 11 :\n",
    "    print (\"Baris ke-%d : forgotten\"%i)\n",
    "    #isi titik-titik dengan judul film favorit kalian\n",
    "    i = i - 1 "
   ]
  },
  {
   "cell_type": "markdown",
   "metadata": {},
   "source": [
    "## FOR LOOP\n",
    "\n",
    "## Exercise 6.4\n",
    "\n",
    "munculkan 3 dari 7 elemen yang berada di dalam list1 dan list2\n"
   ]
  },
  {
   "cell_type": "code",
   "execution_count": 5,
   "metadata": {},
   "outputs": [
    {
     "name": "stdout",
     "output_type": "stream",
     "text": [
      "4 ayam geprek lombok\n",
      "5 bubur kacang ijo bogor\n",
      "6 maklor surabaya\n"
     ]
    }
   ],
   "source": [
    "list1 = [\"dimsum\", \"mie ayam\", \"nasi bakar\", \"ayam geprek\", \"bubur kacang ijo\", \"maklor\", \"cimol\"] #masukkan 7 list makanan favorit kalian\n",
    "list2 = [\"bandung\", \"solo\", \"cilacap\", \"lombok\", \"bogor\", \"surabaya\", \"jakarta\"] #masukkan 7 list kota favorit kalian\n",
    "\n",
    "for i in range(3,6) :\n",
    "    print(i+1, list1[i] , list2[i])"
   ]
  },
  {
   "cell_type": "markdown",
   "metadata": {},
   "source": [
    "## Perulangan Bersarang\n",
    "\n",
    "## Exercise 6.5"
   ]
  },
  {
   "cell_type": "code",
   "execution_count": 1,
   "metadata": {},
   "outputs": [
    {
     "name": "stdout",
     "output_type": "stream",
     "text": [
      "784 \n",
      "\n",
      "\n",
      "\n",
      "\n",
      "\n",
      "\n",
      "\n",
      "\n",
      "\n",
      "\n",
      "\n",
      "\n",
      "\n",
      "\n",
      "\n",
      "\n",
      "\n"
     ]
    }
   ],
   "source": [
    "i = 28\n",
    "while i >= 11:\n",
    "    j = 28\n",
    "    while j<=i:\n",
    "        print(\"%d \" % (i*j), end = '')\n",
    "        j = j + 1\n",
    "    print()\n",
    "    i-=1\n",
    "    "
   ]
  },
  {
   "cell_type": "markdown",
   "metadata": {},
   "source": [
    "## Pernyataan Loncat\n",
    "\n",
    "## Exercise 6.\n",
    "\n",
    "Buatlah fungsi berikut agar muncul angka hingga berhenti sesuai dengan nilai qq\n",
    "qq = angka favorit kalian\n",
    "pp>qq"
   ]
  },
  {
   "cell_type": "code",
   "execution_count": 2,
   "metadata": {},
   "outputs": [
    {
     "name": "stdout",
     "output_type": "stream",
     "text": [
      "01234567"
     ]
    }
   ],
   "source": [
    "for i in range(23):\n",
    "    print(i,end='')\n",
    "    if i == 7:\n",
    "        break"
   ]
  },
  {
   "cell_type": "markdown",
   "metadata": {},
   "source": [
    "***\n",
    "<h1 align=\"center\">WELL DONE</h1>\n",
    " \n",
    "***"
   ]
  }
 ],
 "metadata": {
  "interpreter": {
   "hash": "cd08f94adcf3cbae37fe85286256f4c2a10455ca9094fd053e9f3d3f09647223"
  },
  "kernelspec": {
   "display_name": "Python 3.9.7 64-bit",
   "language": "python",
   "name": "python3"
  },
  "language_info": {
   "codemirror_mode": {
    "name": "ipython",
    "version": 3
   },
   "file_extension": ".py",
   "mimetype": "text/x-python",
   "name": "python",
   "nbconvert_exporter": "python",
   "pygments_lexer": "ipython3",
   "version": "3.10.2"
  },
  "orig_nbformat": 4
 },
 "nbformat": 4,
 "nbformat_minor": 2
}
