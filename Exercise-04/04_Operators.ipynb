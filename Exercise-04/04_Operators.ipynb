{
 "cells": [
  {
   "cell_type": "markdown",
   "metadata": {},
   "source": [
    "***\n",
    "<h1 align=\"center\">Exercise 04</h1>\n",
    " \n",
    "***\n",
    "## Operator Aritmetika\n",
    "Buatlah kode seperti berikut:\n",
    "![](./images/04_operatorAritmetika.png)\n",
    "Ubah variabel **x** dengan **3 digit terakhir nim kalian** dan ubah variabel **y** dengan **tanggal kalian mengerjakan**."
   ]
  },
  {
   "cell_type": "code",
   "execution_count": 2,
   "metadata": {},
   "outputs": [
    {
     "name": "stdout",
     "output_type": "stream",
     "text": [
      "x + y = 40\n",
      "x - y = 38\n",
      "x * y = 39\n",
      "x / y = 39.0\n",
      "x // y = 39\n",
      "x ** y = 39\n"
     ]
    }
   ],
   "source": [
    "# Kerjakan disini\n",
    "\n",
    "# Jangan hapus kode di bawah ini \n",
    "\n",
    "print('x + y =', 39+1)\n",
    "print('x - y =', 39-1)\n",
    "print('x * y =', 39*1)\n",
    "print('x / y =', 39/1)\n",
    "print('x // y =', 39//1)\n",
    "print('x ** y =', 39**1)\n",
    "\n"
   ]
  },
  {
   "cell_type": "markdown",
   "metadata": {},
   "source": [
    "## Operator Relasional/*Comparison*\n",
    "Buatlah kode seperti berikut dan jalankan!\n",
    "![](./images/04_operatorRelasional.png)\n"
   ]
  },
  {
   "cell_type": "code",
   "execution_count": 4,
   "metadata": {},
   "outputs": [
    {
     "name": "stdout",
     "output_type": "stream",
     "text": [
      "x > y is True\n",
      "x < y is False\n",
      "x == y is False\n",
      "x != y is True\n",
      "x >= y is True\n",
      "x <= y is False\n"
     ]
    }
   ],
   "source": [
    "# Kerjakan disini\n",
    "\n",
    "# Jangan hapus kode di bawah ini \n",
    "print('x > y is', 39>1)\n",
    "print('x < y is', 39<1)\n",
    "print('x == y is', 39==1)\n",
    "print('x != y is', 39!=1)\n",
    "print('x >= y is', 39>=1)\n",
    "print('x <= y is', 39<=1)"
   ]
  },
  {
   "cell_type": "markdown",
   "metadata": {},
   "source": [
    "## Operator Logika\n",
    "Lengkapi kode program yang rumpang dibawah!\n"
   ]
  },
  {
   "cell_type": "code",
   "execution_count": 6,
   "metadata": {},
   "outputs": [
    {
     "name": "stdout",
     "output_type": "stream",
     "text": [
      "x > 5 and 10 < y is True\n",
      "x or y more than or equal to 10 is True\n",
      "x or y not more than or equal to 10 is False\n"
     ]
    }
   ],
   "source": [
    "x = 7\n",
    "y = 20\n",
    "print('x > 5 and 10 < y is',x>5 and 10 < y) \n",
    "print('x or y more than or equal to 10 is', x>=10 or y>=10)\n",
    "print('x or y not more than or equal to 10 is',not( x<=10 or y<= 10))\n",
    "\n"
   ]
  },
  {
   "cell_type": "markdown",
   "metadata": {},
   "source": [
    "## Operator String\n",
    "\n",
    "### 1. Concat strings\n",
    "Buat kode program pada cell selanjutnya seperti contoh berikut ini dengan mengubah variabel **str1** dengan nama depan kalian dan **str2** dengan nama belakang kalian!\n",
    "![](./images/04_concatStrings.png)"
   ]
  },
  {
   "cell_type": "code",
   "execution_count": 11,
   "metadata": {},
   "outputs": [
    {
     "ename": "NameError",
     "evalue": "name 'str1' is not defined",
     "output_type": "error",
     "traceback": [
      "\u001b[1;31m---------------------------------------------------------------------------\u001b[0m",
      "\u001b[1;31mNameError\u001b[0m                                 Traceback (most recent call last)",
      "\u001b[1;32me:\\KULIAH\\SEMESTER 2\\PRAKTIKUM PROKOM\\I0321039-Elvie-Prokom\\Exercise-04\\04_Operators.ipynb Cell 8'\u001b[0m in \u001b[0;36m<cell line: 5>\u001b[1;34m()\u001b[0m\n\u001b[0;32m      <a href='vscode-notebook-cell:/e%3A/KULIAH/SEMESTER%202/PRAKTIKUM%20PROKOM/I0321039-Elvie-Prokom/Exercise-04/04_Operators.ipynb#ch0000007?line=0'>1</a>\u001b[0m \u001b[39m# Kerjakan disini\u001b[39;00m\n\u001b[0;32m      <a href='vscode-notebook-cell:/e%3A/KULIAH/SEMESTER%202/PRAKTIKUM%20PROKOM/I0321039-Elvie-Prokom/Exercise-04/04_Operators.ipynb#ch0000007?line=1'>2</a>\u001b[0m \n\u001b[0;32m      <a href='vscode-notebook-cell:/e%3A/KULIAH/SEMESTER%202/PRAKTIKUM%20PROKOM/I0321039-Elvie-Prokom/Exercise-04/04_Operators.ipynb#ch0000007?line=2'>3</a>\u001b[0m \u001b[39m# Jangan hapus kode di bawah ini \u001b[39;00m\n\u001b[0;32m      <a href='vscode-notebook-cell:/e%3A/KULIAH/SEMESTER%202/PRAKTIKUM%20PROKOM/I0321039-Elvie-Prokom/Exercise-04/04_Operators.ipynb#ch0000007?line=3'>4</a>\u001b[0m \u001b[39m#strings\u001b[39;00m\n\u001b[1;32m----> <a href='vscode-notebook-cell:/e%3A/KULIAH/SEMESTER%202/PRAKTIKUM%20PROKOM/I0321039-Elvie-Prokom/Exercise-04/04_Operators.ipynb#ch0000007?line=4'>5</a>\u001b[0m str1 \u001b[39m=\u001b[39m str1\n\u001b[0;32m      <a href='vscode-notebook-cell:/e%3A/KULIAH/SEMESTER%202/PRAKTIKUM%20PROKOM/I0321039-Elvie-Prokom/Exercise-04/04_Operators.ipynb#ch0000007?line=5'>6</a>\u001b[0m str2 \u001b[39m=\u001b[39m str2\n\u001b[0;32m      <a href='vscode-notebook-cell:/e%3A/KULIAH/SEMESTER%202/PRAKTIKUM%20PROKOM/I0321039-Elvie-Prokom/Exercise-04/04_Operators.ipynb#ch0000007?line=6'>7</a>\u001b[0m result \u001b[39m=\u001b[39m str1 \u001b[39m+\u001b[39m \u001b[39m\"\u001b[39m\u001b[39m \u001b[39m\u001b[39m\"\u001b[39m \u001b[39m+\u001b[39m str2\n",
      "\u001b[1;31mNameError\u001b[0m: name 'str1' is not defined"
     ]
    }
   ],
   "source": [
    "# Kerjakan disini\n",
    "\n",
    "# Jangan hapus kode di bawah ini \n",
    "#strings\n",
    "str1 = str1\n",
    "str2 = str2\n",
    "result = str1 + \" \" + str2\n",
    "print(result)"
   ]
  },
  {
   "cell_type": "markdown",
   "metadata": {},
   "source": [
    "### 2. Replikasi strings\n",
    "Buat kode program pada cell selanjutnya seperti contoh berikut ini!\n",
    "![](./images/04_replikasiStrings.png)"
   ]
  },
  {
   "cell_type": "code",
   "execution_count": null,
   "metadata": {},
   "outputs": [],
   "source": [
    "# Kerjakan disini\n",
    "\n",
    "# Jangan hapus kode di bawah ini \n",
    "%reset -f"
   ]
  },
  {
   "cell_type": "markdown",
   "metadata": {},
   "source": [
    "### 3. Pengecekan membership– in\n",
    "Buat kode program pada cell selanjutnya seperti contoh berikut ini!\n",
    "![](./images/04_pengecekanMembership-in.png)\n",
    "Kemudian jalankan program yang telah dibuat."
   ]
  },
  {
   "cell_type": "code",
   "execution_count": null,
   "metadata": {},
   "outputs": [],
   "source": [
    "# Kerjakan disini\n",
    "\n",
    "# Jangan hapus kode di bawah ini \n",
    "%reset -f"
   ]
  },
  {
   "cell_type": "markdown",
   "metadata": {},
   "source": [
    "### 4. Checking membership - not in\n",
    "Buat kode program pada cell selanjutnya seperti contoh berikut ini!\n",
    "![](./images/04_pengecekanMembership-out.png)\n",
    "Kemudian jalankan program yang dibuat."
   ]
  },
  {
   "cell_type": "code",
   "execution_count": null,
   "metadata": {},
   "outputs": [],
   "source": [
    "# Kerjakan disini\n",
    "\n",
    "# Jangan hapus kode di bawah ini \n",
    "%reset -f"
   ]
  },
  {
   "cell_type": "markdown",
   "metadata": {},
   "source": [
    "### 5. Mengakses karakter dalam string\n",
    "Buat kode program pada cell selanjutnya seperti contoh berikut ini dengan mengubah variabel **str** dengan nama depan kalian!\n",
    "![](./images/04_mengaksesString.png)\n",
    "Kemudian jalankan program yang dibuat."
   ]
  },
  {
   "cell_type": "code",
   "execution_count": null,
   "metadata": {},
   "outputs": [],
   "source": [
    "# Kerjakan disini\n",
    "\n",
    "# Jangan hapus kode di bawah ini \n",
    "%reset -f"
   ]
  },
  {
   "cell_type": "markdown",
   "metadata": {},
   "source": [
    "### 6. Substring\n",
    "Berdasarkan contoh di bawah, buatlah program yang memberi output **3** huruf terakhir dari **nama depan** kalian!\n",
    "![](./images/04_substring.png)\n",
    "Kemudian jalankan program yang dibuat."
   ]
  },
  {
   "cell_type": "code",
   "execution_count": null,
   "metadata": {},
   "outputs": [],
   "source": [
    "# Kerjakan disini\n",
    "\n",
    "# Jangan hapus kode di bawah ini \n",
    "%reset -f"
   ]
  },
  {
   "cell_type": "markdown",
   "metadata": {},
   "source": [
    "### 7. Skipping characters\n",
    "Berdasarkan contoh di bawah, buatlah program yang memberi output substring berindeks ganjil dari string **nama kota asal kalian**!\n",
    "![](./images/04_skipping.png)\n",
    "Kemudian jalankan program yang dibuat."
   ]
  },
  {
   "cell_type": "code",
   "execution_count": null,
   "metadata": {},
   "outputs": [],
   "source": [
    "# Kerjakan disini\n",
    "\n",
    "# Jangan hapus kode di bawah ini \n",
    "%reset -f"
   ]
  },
  {
   "cell_type": "markdown",
   "metadata": {},
   "source": [
    "### 8. Reverse string\n",
    "Berdasarkan contoh di bawah, buatlah program yang membalikkan string **nama kota asal kalian**!\n",
    "![](./images/04_reverse.png)\n",
    "Kemudian jalankan program yang dibuat."
   ]
  },
  {
   "cell_type": "code",
   "execution_count": null,
   "metadata": {},
   "outputs": [],
   "source": [
    "# Kerjakan disini\n",
    "\n",
    "# Jangan hapus kode di bawah ini \n",
    "%reset -f"
   ]
  },
  {
   "cell_type": "markdown",
   "metadata": {},
   "source": [
    "## Operator Bitwise"
   ]
  },
  {
   "cell_type": "markdown",
   "metadata": {},
   "source": [
    "Buat ulang kode program di bawah ini!\n",
    "![](./images/04_operatorBitwise.png)\n",
    "Kemudian jalankan program yang dibuat."
   ]
  },
  {
   "cell_type": "code",
   "execution_count": null,
   "metadata": {},
   "outputs": [],
   "source": [
    "# Kerjakan disini\n",
    "\n",
    "# Jangan hapus kode di bawah ini \n",
    "%reset -f"
   ]
  },
  {
   "cell_type": "markdown",
   "metadata": {},
   "source": [
    "### Membuat kode\n",
    "Untuk sebuah skenario berikut, tulis program pada Cell Python dibawah.\n",
    "\n",
    "Untuk mendaftar kursus online, calon peserta harus berusia minimal 21 tahun dan telah lulus tes substansi. Pengguna akan ditanyai pertanyaan-pertanyaan berikut:\n",
    "1. Berapa usia anda?\n",
    "2. Apakah anda lulus tes substansi (Y/T)?\n",
    "\n",
    "Tanggapan/response dari pertanyaan berupa string berikut:\n",
    "1. “Anda dapat mendaftar di kursus.”, atau\n",
    "2. “Anda tidak dapat mendaftar di kursus.”"
   ]
  },
  {
   "cell_type": "code",
   "execution_count": null,
   "metadata": {},
   "outputs": [],
   "source": [
    "#Buat kode disini\n"
   ]
  },
  {
   "cell_type": "markdown",
   "metadata": {},
   "source": [
    "### Cara Pengumpulan\n",
    "\n",
    "1. Buka *New Terminal*\n",
    "2. Pastikan *path* Terminal adalah folder repositori kalian (NIM-Nama-Prokom).\n",
    "3. Tambahkan file yang akan ditrack dengan `git add <nama file>`. Nama file bisa diubah . (titik) yang artinya semua file dalam folder akan ditrack.\n",
    "4. Lakukan commit perubahan dengan `git commit -m <deskripsi>`.\n",
    "5. Lakukan push dengan `git push -u origin <nama branch>`. Nama branch dapat diketahui dengan `git branch`.\n",
    "6. Pastikan Exercise-02 telah terupload dan dapat diakses di repositori dengan mengaksesnya di browser."
   ]
  },
  {
   "cell_type": "markdown",
   "metadata": {},
   "source": [
    "***\n",
    "<h1 align=\"center\">Well Done!!!</h1>\n",
    "\n",
    "***"
   ]
  }
 ],
 "metadata": {
  "interpreter": {
   "hash": "ac59ebe37160ed0dfa835113d9b8498d9f09ceb179beaac4002f036b9467c963"
  },
  "kernelspec": {
   "display_name": "Python 3.9.8 64-bit",
   "language": "python",
   "name": "python3"
  },
  "language_info": {
   "codemirror_mode": {
    "name": "ipython",
    "version": 3
   },
   "file_extension": ".py",
   "mimetype": "text/x-python",
   "name": "python",
   "nbconvert_exporter": "python",
   "pygments_lexer": "ipython3",
   "version": "3.10.2"
  },
  "orig_nbformat": 4
 },
 "nbformat": 4,
 "nbformat_minor": 2
}
