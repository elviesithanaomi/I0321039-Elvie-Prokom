{
 "cells": [
  {
   "cell_type": "markdown",
   "metadata": {},
   "source": [
    "***\n",
    "<h1 align=\"center\">Exercise 11</h1>\n",
    " \n",
    "***\n",
    "## Membuat Modul\n",
    "Silakan perhatikan file **Geometri2D** di ./data. \n",
    "Kemudian buatlah kode seperti berikut:\n",
    "\n",
    "![](./images/11_Geometri2D.png)\n"
   ]
  },
  {
   "cell_type": "markdown",
   "metadata": {},
   "source": [
    "## Perintah Import \n",
    "Buatlah kode seperti berikut:\n",
    "\n",
    "![](./images/11_Import.png)\n",
    "\n",
    "Ubah variabel **p** dengan **3 digit nim terakhir kalian** dan variabel **l** dengan **tanggal kalian mengerjakan**."
   ]
  },
  {
   "cell_type": "code",
   "execution_count": 1,
   "metadata": {},
   "outputs": [
    {
     "name": "stdout",
     "output_type": "stream",
     "text": [
      "persegi panjang\n",
      "panjang\t\t: 39\n",
      "lebar\t\t: 24\n",
      "luas\t\t: 936\n",
      "keliling\t: 126\n"
     ]
    }
   ],
   "source": [
    "# Kerjakan di sini\n",
    "from Data import Geometri2D\n",
    "\n",
    "p = 39\n",
    "l = 24\n",
    "\n",
    "luas = Geometri2D.luaspersegipanjang(p,l)\n",
    "kel = Geometri2D.kelilingpersegipanjang(p,l)\n",
    "\n",
    "print(\"persegi panjang\")\n",
    "print(\"panjang\\t\\t:\", p)\n",
    "print(\"lebar\\t\\t:\", l)\n",
    "print(\"luas\\t\\t:\", luas)\n",
    "print(\"keliling\\t:\", kel)"
   ]
  },
  {
   "cell_type": "markdown",
   "metadata": {},
   "source": [
    "## Perintah From...Import \n",
    "Buatlah kode seperti berikut:\n",
    "\n",
    "![](./images/11_FromImport.png)\n",
    "\n",
    "Ubah variabel **p** dengan **3 digit nim terakhir kalian** dan variabel **l** dengan **tanggal kalian mengerjakan**."
   ]
  },
  {
   "cell_type": "code",
   "execution_count": 2,
   "metadata": {},
   "outputs": [
    {
     "name": "stdout",
     "output_type": "stream",
     "text": [
      "persegi panjang\n",
      "panjang\t: 39\n",
      "lebar\t: 24\n",
      "luas\t: 936\n"
     ]
    }
   ],
   "source": [
    "# Kerjakan di sini\n",
    "from Data.Geometri2D import luaspersegipanjang\n",
    "\n",
    "p = 39\n",
    "l = 24\n",
    "\n",
    "luas = luaspersegipanjang (p,l)\n",
    "\n",
    "print(\"persegi panjang\")\n",
    "print(\"panjang\\t:\", p)\n",
    "print(\"lebar\\t:\", l)\n",
    "print(\"luas\\t:\", luas)\n",
    "\n"
   ]
  },
  {
   "cell_type": "markdown",
   "metadata": {},
   "source": [
    "## Membuat Alias/Nama Lain Modul \n",
    "### 1. Nama Modul\n",
    "Buatlah kode seperti berikut:\n",
    "\n",
    "![](./images/11_Alias.png)\n",
    "\n",
    "Ubah variabel **p** dengan **3 digit nim terakhir kalian** dan variabel **l** dengan **tanggal kalian mengerjakan**."
   ]
  },
  {
   "cell_type": "code",
   "execution_count": 3,
   "metadata": {},
   "outputs": [
    {
     "name": "stdout",
     "output_type": "stream",
     "text": [
      "persegi panjang\n",
      "panjang\t: 39\n",
      "lebar\t: 24\n",
      "luas\t: 936\n"
     ]
    }
   ],
   "source": [
    "# Kerjakan di sini\n",
    "from Data import Geometri2D as DuaD\n",
    "\n",
    "p = 39\n",
    "l = 24\n",
    "\n",
    "luas = DuaD.luaspersegipanjang(p,l)\n",
    "\n",
    "print(\"persegi panjang\")\n",
    "print(\"panjang\\t:\", p)\n",
    "print(\"lebar\\t:\", l)\n",
    "print(\"luas\\t:\", luas)\n"
   ]
  },
  {
   "cell_type": "markdown",
   "metadata": {},
   "source": [
    "### 2. Nama Fungsi\n",
    "Buatlah kode seperti berikut:\n",
    "\n",
    "![](./images/11_Alias2.png)\n",
    "\n",
    "Ubah variabel **p** dengan **3 digit nim terakhir kalian** dan variabel **l** dengan **tanggal kalian mengerjakan**."
   ]
  },
  {
   "cell_type": "code",
   "execution_count": 4,
   "metadata": {},
   "outputs": [
    {
     "name": "stdout",
     "output_type": "stream",
     "text": [
      "persegi panjang\n",
      "panjang\t: 39\n",
      "lebar\t: 24\n",
      "luas\t: 936\n"
     ]
    }
   ],
   "source": [
    "# Kerjakan di sini\n",
    "from Data.Geometri2D import luaspersegipanjang as LPP\n",
    "\n",
    "P = 39\n",
    "l = 24\n",
    "\n",
    "luas = LPP(p,l)\n",
    "\n",
    "print(\"persegi panjang\")\n",
    "print(\"panjang\\t:\", p)\n",
    "print(\"lebar\\t:\", l)\n",
    "print(\"luas\\t:\", luas)"
   ]
  },
  {
   "cell_type": "markdown",
   "metadata": {},
   "source": [
    "## Membuat Paket \n",
    "Silakan perhatikan file **__init__.py** di ./Data.\n",
    "Kemudian isikan kode berikut ke dalam file **__init__.py**:\n",
    "\n",
    "![](./images/11_init.png)\n"
   ]
  },
  {
   "cell_type": "markdown",
   "metadata": {},
   "source": [
    "## Menggunakan Paket\n",
    "Buatlah kode seperti berikut:\n",
    "\n",
    "![](./images/11_Paket.png)\n",
    "\n",
    "Ubah variabel **sisi** dengan **tanggal kalian mengerjakan**."
   ]
  },
  {
   "cell_type": "code",
   "execution_count": 5,
   "metadata": {},
   "outputs": [
    {
     "name": "stdout",
     "output_type": "stream",
     "text": [
      "bujur sangka\n",
      "panjang sisi\t: 24\n",
      "luas\t\t: 576\n"
     ]
    }
   ],
   "source": [
    "# Kerjakan di sini\n",
    "import Data.Geometri2D\n",
    "\n",
    "def main():\n",
    "    sisi = 24\n",
    "\n",
    "    luas = Data.Geometri2D.luasbujursangkar(sisi)\n",
    "\n",
    "    print(\"bujur sangka\")\n",
    "    print(\"panjang sisi\\t:\", sisi)\n",
    "    print(\"luas\\t\\t:\", luas)\n",
    "\n",
    "if __name__ == \"__main__\":\n",
    "    main()\n"
   ]
  },
  {
   "cell_type": "markdown",
   "metadata": {},
   "source": [
    "***\n",
    "<h1 align=\"center\">Well Done!!!</h1>\n",
    "\n",
    "***"
   ]
  }
 ],
 "metadata": {
  "interpreter": {
   "hash": "4f50e4c5328235f586301822dc940ce3db7b61934e3f9198634874f84fc4e1b4"
  },
  "kernelspec": {
   "display_name": "Python 3.9.13 64-bit (windows store)",
   "language": "python",
   "name": "python3"
  },
  "language_info": {
   "codemirror_mode": {
    "name": "ipython",
    "version": 3
   },
   "file_extension": ".py",
   "mimetype": "text/x-python",
   "name": "python",
   "nbconvert_exporter": "python",
   "pygments_lexer": "ipython3",
   "version": "3.9.13"
  },
  "orig_nbformat": 4
 },
 "nbformat": 4,
 "nbformat_minor": 2
}
